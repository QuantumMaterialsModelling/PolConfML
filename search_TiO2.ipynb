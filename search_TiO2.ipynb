{
 "cells": [
  {
   "cell_type": "code",
   "execution_count": 1,
   "metadata": {},
   "outputs": [],
   "source": [
    "from PolConfML.search import Search_TiO2 as Search, search_extended_config_TiO2 as search_extended_config\n",
    "from PolConfML.model import Network, Dataset\n",
    "from PolConfML.utils import load_descs, save_descs\n",
    "import torch\n",
    "import numpy as np\n",
    "import time\n",
    "import matplotlib.pyplot as plt"
   ]
  },
  {
   "cell_type": "code",
   "execution_count": 2,
   "metadata": {},
   "outputs": [],
   "source": [
    "path = 'data_TiO2/split/'\n",
    "\n",
    "keys = ['S0_A','S0_B','S1_A','S1_B','S2_A','S2_B']\n",
    "\n",
    "# train\n",
    "descs_train, indices_train = load_descs(path+'train/',keys)\n",
    "Y_train = np.array(np.load(path+'train/Y.npy'))\n",
    "defects_train = np.load(path+'train/defect.npy')\n",
    "n = [descs_train[site].shape[0] for site in descs_train]\n",
    "\n",
    "# data\n",
    "data_train = Dataset(descs_train, indices_train, Y_train, defects_train)\n",
    "data_train.kernel(0.3)"
   ]
  },
  {
   "cell_type": "code",
   "execution_count": 3,
   "metadata": {},
   "outputs": [],
   "source": [
    "net = torch.load('data_TiO2/model.pt')"
   ]
  },
  {
   "cell_type": "code",
   "execution_count": 4,
   "metadata": {},
   "outputs": [],
   "source": [
    "box_size = np.diag(np.loadtxt('data_TiO2/POSCAR',skiprows=2,max_rows=3))\n",
    "\n",
    "ov_pos = np.array([\n",
    "        [0.666666666667, 0.75, 0.5242],\n",
    "        [0.000000000000, 0.25, 0.5242],\n",
    "        [0.444444444444, 0.25, 0.5242],\n",
    "        [0.222222222222, 0.75, 0.5242],\n",
    "        [0.000000000000, 0.75, 0.5242],\n",
    "        [0.777777777778, 0.25, 0.5242],\n",
    "        [0.444444444444, 0.75, 0.5242],\n",
    "        [0.222222222222, 0.25, 0.5242],\n",
    "        [0.555555555556, 0.25, 0.5242]])*box_size"
   ]
  },
  {
   "cell_type": "code",
   "execution_count": 5,
   "metadata": {},
   "outputs": [],
   "source": [
    "s = Search('data_TiO2/POSCAR')"
   ]
  },
  {
   "cell_type": "code",
   "execution_count": 6,
   "metadata": {},
   "outputs": [
    {
     "name": "stdout",
     "output_type": "stream",
     "text": [
      "2 \t\n",
      "5565 / 5565\n",
      "3 \t\n",
      "5356 / 5356\n",
      "4 \t\n",
      "5151 / 5151\n",
      "5 \t\n",
      "4950 / 4950\n",
      "6 \t\n",
      "4753 / 4753\n",
      "7 \t\n",
      "4560 / 4560\n",
      "8 \t\n",
      "4371 / 4371\n",
      "9 \t\n",
      "4186 / 4186\n",
      "282.8688690662384\n"
     ]
    }
   ],
   "source": [
    "import time\n",
    "start = time.time()\n",
    "site_list = ['S0_A','S0_B', 'S1_A', 'S1_B', 'S2_A','S2_B']\n",
    "res = {}\n",
    "a, b = search_extended_config(net, data_train, s, np.array([]),2, ov_pos[:1], site_list, box_size)\n",
    "res[1]= {'idxs':a, 'en':b}\n",
    "# controls number of configurations for constructing more defective configurations\n",
    "# 1 for a very rough search; 100 for better results\n",
    "n_search = 1\n",
    "\n",
    "for j in range(2,10):\n",
    "    print(j,'\\t')\n",
    "    tmp_idxs = []\n",
    "    tmp_en = []\n",
    "    for i in range(n_search):\n",
    "        print(i/n_search,'\\t',end='\\r')\n",
    "        a, b = search_extended_config(net, data_train, s, res[j-1]['idxs'][i], 2, ov_pos[:j], site_list, box_size)\n",
    "        tmp_idxs.append(a)\n",
    "        tmp_en.append(b)\n",
    "    tmp_idxs = np.concatenate(tmp_idxs)\n",
    "    tmp_idxs = np.sort(tmp_idxs, axis=1)\n",
    "    tmp_en = np.concatenate(tmp_en)\n",
    "    _,idxs = np.unique(tmp_idxs,axis=0,return_index=True)\n",
    "    print(len(idxs),'/',len(tmp_en))\n",
    "    tmp_idxs = tmp_idxs[idxs]\n",
    "    tmp_en = tmp_en[idxs]\n",
    "    idxs = np.argsort(tmp_en)\n",
    "    res[j] = {'idxs':tmp_idxs[idxs], 'en':tmp_en[idxs]}\n",
    "end = time.time()\n",
    "print(end-start)"
   ]
  },
  {
   "cell_type": "code",
   "execution_count": 7,
   "metadata": {},
   "outputs": [
    {
     "name": "stdout",
     "output_type": "stream",
     "text": [
      "1 VO\n",
      "[ 58 158]\n",
      "[ 68 148]\n",
      "[ 78 148]\n",
      "2 VO\n",
      "[ 58  88  98 158]\n",
      "[ 58  88 108 158]\n",
      "[ 58  88 158 178]\n",
      "3 VO\n",
      "[ 28  58  88  98 144 158]\n",
      "[ 38  58  88  98 144 158]\n",
      "[ 28  58  88  98 128 158]\n",
      "4 VO\n",
      "[ 28  34  58  88  98 104 144 158]\n",
      "[ 28  58  88  98 104 128 144 158]\n",
      "[ 14  28  58  88  98 128 144 158]\n",
      "5 VO\n",
      "[ 28  34  58  84  88  98 104 128 144 158]\n",
      "[ 14  28  34  58  88  98 104 128 144 158]\n",
      "[ 28  34  43  58  84  88  98 104 144 158]\n",
      "6 VO\n",
      "[ 28  34  58  84  88  89  98 104 113 128 144 158]\n",
      "[ 28  34  58  84  88  89  93  98 104 128 144 158]\n",
      "[ 28  34  43  58  84  88  98 104 128 144 158 174]\n",
      "7 VO\n",
      "[ 28  34  54  58  84  88  89  98 104 113 128 144 158 174]\n",
      "[ 28  34  58  84  88  89  98 104 113 128 133 144 158 174]\n",
      "[ 14  28  34  58  84  88  89  98 104 113 128 144 158 174]\n",
      "8 VO\n",
      "[ 14  28  34  54  58  73  84  88  89  98 104 113 128 144 158 174]\n",
      "[ 14  28  34  54  58  84  88  89  98 104 113 128 133 144 158 174]\n",
      "[ 14  28  34  54  58  84  88  89  98 104 113 128 144 158 163 174]\n",
      "9 VO\n",
      "[  9  14  28  34  54  58  73  84  88  89  98  99 104 113 128 144 158 174]\n",
      "[  9  14  28  34  54  58  73  84  88  89  98 104 113 128 144 158 169 174]\n",
      "[  9  14  28  34  54  58  73  84  88  89  98 104 113 128 144 158 174 179]\n"
     ]
    }
   ],
   "source": [
    "for i in res:\n",
    "    print(i, 'VO')\n",
    "    for idx in res[i]['idxs'][:3]:\n",
    "        print(idx)"
   ]
  },
  {
   "cell_type": "code",
   "execution_count": null,
   "metadata": {},
   "outputs": [],
   "source": []
  }
 ],
 "metadata": {
  "kernelspec": {
   "display_name": "Python 3 (ipykernel)",
   "language": "python",
   "name": "python3"
  },
  "language_info": {
   "codemirror_mode": {
    "name": "ipython",
    "version": 3
   },
   "file_extension": ".py",
   "mimetype": "text/x-python",
   "name": "python",
   "nbconvert_exporter": "python",
   "pygments_lexer": "ipython3",
   "version": "3.7.10"
  }
 },
 "nbformat": 4,
 "nbformat_minor": 4
}
