{
 "cells": [
  {
   "cell_type": "code",
   "execution_count": 1,
   "metadata": {},
   "outputs": [],
   "source": [
    "from PolConfML.search import Search_SrTiO3 as Search, search_extended_config_SrTiO3 as search_extended_config\n",
    "from PolConfML.model import Network, Dataset\n",
    "from PolConfML.utils import load_descs, save_descs\n",
    "import torch\n",
    "import numpy as np\n",
    "import time\n",
    "import matplotlib.pyplot as plt\n",
    "\n",
    "dtype = torch.float32"
   ]
  },
  {
   "cell_type": "code",
   "execution_count": 2,
   "metadata": {},
   "outputs": [],
   "source": [
    "path = 'data_SrTiO3/split/'\n",
    "\n",
    "# train\n",
    "descs_train, indices_train = load_descs(path+'train/',['S0','S1','S2'])\n",
    "Y_train = np.array(np.load(path+'train/Y.npy'))\n",
    "defects_train = np.load(path+'train/defect.npy')\n",
    "n = [descs_train[site].shape[0] for site in descs_train]\n",
    "\n",
    "data_train = Dataset(descs_train, indices_train, Y_train, defects_train)\n",
    "data_train.kernel(0.3)"
   ]
  },
  {
   "cell_type": "code",
   "execution_count": 3,
   "metadata": {},
   "outputs": [],
   "source": [
    "net = torch.load('data_SrTiO3/model.pt')\n",
    "Nb = np.loadtxt('data_SrTiO3/POSCAR',skiprows=9,usecols=(0,1,2))[:8]\n",
    "cell = np.diag(np.loadtxt('data_SrTiO3/POSCAR',skiprows=2,max_rows=3))"
   ]
  },
  {
   "cell_type": "code",
   "execution_count": 4,
   "metadata": {},
   "outputs": [
    {
     "name": "stdout",
     "output_type": "stream",
     "text": [
      "0.0\n",
      "0.03683761365938715\n",
      "0.0736752273187743\n",
      "0.11051284097816143\n",
      "0.1473504546375486\n",
      "0.18418806829693574\n",
      "0.22102568195632286\n",
      "0.25786329561571003\n",
      "0.2947009092750972\n",
      "0.3315385229344843\n",
      "0.3683761365938715\n",
      "0.4052137502532586\n",
      "0.4420513639126457\n",
      "0.47888897757203286\n",
      "0.5157265912314201\n",
      "0.5525642048908072\n",
      "0.5894018185501944\n",
      "0.6262394322095814\n",
      "0.6630770458689687\n",
      "0.6999146595283557\n",
      "0.736752273187743\n",
      "0.77358988684713\n",
      "0.8104275005065172\n",
      "0.8472651141659043\n",
      "0.8841027278252914\n",
      "0.9209403414846786\n",
      "0.9577779551440657\n",
      "0.9946155688034529\n",
      "0.9999987720795447\n",
      "5 Nb\n",
      "6 Nb\n",
      "7 Nb\n",
      "8 Nb\n",
      "1283.3972699642181\n"
     ]
    }
   ],
   "source": [
    "start = time.time()\n",
    "res = {}\n",
    "s = Search('data_SrTiO3/POSCAR', 4)\n",
    "site_list = ['S0', 'S1', 'S2']\n",
    "a, b,c,d = search_extended_config(net,\n",
    "                                  data_train,\n",
    "                                  s,\n",
    "                                  np.array([]),\n",
    "                                  4, \n",
    "                                  Nb[:4], \n",
    "                                  cell,\n",
    "                                  site_list,\n",
    "                                  30000)\n",
    "sorted_idxs = np.argsort(b)\n",
    "res[4] = {'energies':b[sorted_idxs], 'idxs':a[sorted_idxs]}\n",
    "n_search = 100\n",
    "\n",
    "for j in range(5,9):\n",
    "    print(j, 'Nb')\n",
    "    site_list = ['S0', 'S1', 'S2']\n",
    "    s = Search('data_SrTiO3/POSCAR', j)\n",
    "    res_idx = []\n",
    "    res_en = []\n",
    "    for i,idxs in enumerate(res[j-1]['idxs'][:n_search]):\n",
    "        print(i/n_search, end='\\r')\n",
    "        search_idxs = idxs-1\n",
    "        if np.logical_not(np.any(search_idxs <0)):\n",
    "            a, b,c,d = search_extended_config(net,\n",
    "                                              data_train,\n",
    "                                              s, \n",
    "                                              search_idxs,\n",
    "                                              1, \n",
    "                                              Nb[:j],\n",
    "                                              cell,\n",
    "                                              site_list,\n",
    "                                              verbose=False)\n",
    "            sorted_idx = np.argsort(b)\n",
    "            b = b[sorted_idx]\n",
    "            a = a[sorted_idx]\n",
    "            res_idx.append(a)\n",
    "            res_en.append(b)\n",
    "    res_idx = np.concatenate(res_idx)\n",
    "    res_en = np.concatenate(res_en)\n",
    "\n",
    "    _, idxs = np.unique(res_en,return_index =True)\n",
    "    res_en = res_en[idxs]\n",
    "    res_idx = res_idx[idxs]\n",
    "    sorted_idxs = np.argsort(res_en)\n",
    "    res[j] = {'energies':res_en[sorted_idxs], 'idxs':res_idx[sorted_idxs]}\n",
    "\n",
    "end = time.time()\n",
    "print(end-start)"
   ]
  },
  {
   "cell_type": "code",
   "execution_count": 5,
   "metadata": {},
   "outputs": [],
   "source": [
    "# correct indexing\n",
    "res_new = {i:res[i]['idxs']+i for i in res}"
   ]
  },
  {
   "cell_type": "code",
   "execution_count": 6,
   "metadata": {},
   "outputs": [
    {
     "name": "stdout",
     "output_type": "stream",
     "text": [
      "4 Nb\n",
      "[[13 27 29 45]\n",
      " [13 27 29 35]\n",
      " [13 27 29 46]\n",
      " [13 27 29 37]\n",
      " [ 9 13 27 30]]\n",
      "5 Nb\n",
      "[[13 27 29 45 11]\n",
      " [13 27 29 35 11]\n",
      " [13 27 29 40 11]\n",
      " [13 27 38 45 11]\n",
      " [13 27 33 35 11]]\n",
      "6 Nb\n",
      "[[13 27 29 45 10 37]\n",
      " [13 27 29 35 10 37]\n",
      " [13 27 29 36 45 46]\n",
      " [13 27 29 36 45 44]\n",
      " [13 27 29 36 45 31]]\n",
      "7 Nb\n",
      "[[13 27 29 36 45 44 11]\n",
      " [13 27 29 35 10 44 37]\n",
      " [13 27 29 36 45 41 11]\n",
      " [13 27 29 35 10 41 37]\n",
      " [13 27 29 36 45 44 41]]\n",
      "8 Nb\n",
      "[[13 27 29 36 45 10 44 54]\n",
      " [13 27 29 36 45 10 44 24]\n",
      " [13 27 29 36 45 10 44 66]\n",
      " [13 27 29 36 45 10 41 54]\n",
      " [13 27 29 36 45 10 44 51]]\n"
     ]
    }
   ],
   "source": [
    "for i in res_new:\n",
    "    print(i,'Nb')\n",
    "    print(res_new[i][:5])"
   ]
  },
  {
   "cell_type": "code",
   "execution_count": null,
   "metadata": {},
   "outputs": [],
   "source": []
  }
 ],
 "metadata": {
  "kernelspec": {
   "display_name": "Python 3 (ipykernel)",
   "language": "python",
   "name": "python3"
  },
  "language_info": {
   "codemirror_mode": {
    "name": "ipython",
    "version": 3
   },
   "file_extension": ".py",
   "mimetype": "text/x-python",
   "name": "python",
   "nbconvert_exporter": "python",
   "pygments_lexer": "ipython3",
   "version": "3.7.10"
  }
 },
 "nbformat": 4,
 "nbformat_minor": 4
}
